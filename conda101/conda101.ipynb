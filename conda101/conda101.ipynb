{
 "cells": [
  {
   "cell_type": "markdown",
   "metadata": {
    "deletable": true,
    "editable": true,
    "slideshow": {
     "slide_type": "slide"
    }
   },
   "source": [
    "# Conda\n",
    "\n",
    "* Duas grandes funcionalidades\n",
    "    * Gerenciador de pacotes p/ desenvolvimento\n",
    "    * Criação de ambientes virtuais de desenvolvimento"
   ]
  },
  {
   "cell_type": "markdown",
   "metadata": {
    "deletable": true,
    "editable": true,
    "slideshow": {
     "slide_type": "slide"
    }
   },
   "source": [
    "# História e contexto\n",
    "\n",
    "* Tem sua origem na comunidade científica usuária de Python\n",
    "* Essa comunidade utiliza muito código C/C++, pois muitas libs usam extensões (exemplo mais famoso: ***numpy***)"
   ]
  },
  {
   "cell_type": "markdown",
   "metadata": {
    "deletable": true,
    "editable": true,
    "slideshow": {
     "slide_type": "slide"
    }
   },
   "source": [
    "* A solução já existente na comunidade, ***pip***, era insuficiente para os requisitos desse grupo\n",
    "    * Principalmente porque esses pacotes traziam *somente* código python e assumiam que dependências binárias estariam disponíveis no ambiente\n",
    "    * Porém essa comunidade *desenvolve* código C/C++ além de muitas precisar de recompilar certas bibliotecas"
   ]
  },
  {
   "cell_type": "markdown",
   "metadata": {
    "deletable": true,
    "editable": true,
    "slideshow": {
     "slide_type": "slide"
    }
   },
   "source": [
    "* Assim, o Conda surgiu como uma iniciativa da Continuum analytics. \n",
    "* Ela se popularizou distribuição ***Anaconda***, que é basicamente um mega-kit pronto para cientistas\n",
    "* Eventualmente, foi desenvolvido o ***Miniconda***, que é basicamente o Conda reduzido a seus features livre de dependências adicionais"
   ]
  },
  {
   "cell_type": "markdown",
   "metadata": {
    "deletable": true,
    "editable": true,
    "slideshow": {
     "slide_type": "slide"
    }
   },
   "source": [
    "# Um exemplo pra mostrar como funciona"
   ]
  },
  {
   "cell_type": "markdown",
   "metadata": {
    "collapsed": false,
    "deletable": true,
    "editable": true,
    "slideshow": {
     "slide_type": "fragment"
    }
   },
   "source": [
    "[Implementando uma shared dynamic library chamada foo ...](https://asciinema.org/a/7u5lnuf4tksotd9py1hobrkao)"
   ]
  },
  {
   "cell_type": "markdown",
   "metadata": {
    "collapsed": false,
    "deletable": true,
    "editable": true,
    "slideshow": {
     "slide_type": "fragment"
    }
   },
   "source": [
    "[Criando o pacote conda da biblioteca foo ...](https://asciinema.org/a/53f9xs9a4mr09v72x2p6rk2mh)"
   ]
  },
  {
   "cell_type": "markdown",
   "metadata": {
    "collapsed": false,
    "deletable": true,
    "editable": true,
    "slideshow": {
     "slide_type": "fragment"
    }
   },
   "source": [
    "[Usando pacote da biblioteca foo para criar um binário ...](https://asciinema.org/a/43jtn2hnp7x9oy46p7j7m4lgu)"
   ]
  },
  {
   "cell_type": "markdown",
   "metadata": {
    "deletable": true,
    "editable": true,
    "slideshow": {
     "slide_type": "slide"
    }
   },
   "source": [
    "# Mais detalhes\n",
    "\n",
    "* É portável (Windows, Linux e MacOS)\n",
    "* As suas ferramentas de linha são bem completas\n",
    "* Facilita bastante para um desenvolvedor trabalhar em 2+ projetos bem distintos simultaneamente, pois pode criar ambientes específicos\n",
    "    * O versionamento do arquivo de ambiente permite também reproduzir builds antigos"
   ]
  },
  {
   "cell_type": "markdown",
   "metadata": {
    "deletable": true,
    "editable": true,
    "slideshow": {
     "slide_type": "slide"
    }
   },
   "source": [
    "* Os pacotes não são duplicados a torto e direito. São utilizados ***hard-links*** caso uma mesma dependência seja detectada em múltiplos ambientes\n",
    "    * No Linux é incrivelmente rápido. No Windows não é tão rápido, mas pelo menos consegue preservar espaço\n",
    "* É possível criar canais privados sem o menor problema\n",
    "    * Na verdade é até estimulável, pois se todos pacotes forem baixados da rede para um time de dev, isso pode ocupar muita banda. Criar um mirror local c/ pacotes de interesse é saudável"
   ]
  },
  {
   "cell_type": "markdown",
   "metadata": {
    "deletable": true,
    "editable": true,
    "slideshow": {
     "slide_type": "slide"
    }
   },
   "source": [
    "* Possui um \"ecossistema\" bem fértil para Python, com muitos pacotes já disponíveis. Quanto a C/C++, só os normalmente associados a código numérico estão disponíveis\n",
    "* Automaticamente faz pacotes com binários relocáveis, atualizando o prefixo dos arquivos binários em tempo de instalação do pacote (detalhes [aqui](https://conda.io/docs/building/meta-yaml.html#relocatable))\n",
    "    * No Linux, conda manipula o *rpath* dos binários em pacotes para apontar para os diretórios de lib de um ambiente"
   ]
  },
  {
   "cell_type": "markdown",
   "metadata": {
    "deletable": true,
    "editable": true,
    "slideshow": {
     "slide_type": "slide"
    }
   },
   "source": [
    "* No Windows sabe gerenciar versão de runtime de um pacote, ajudando a evitar conflitos (detalhes [aqui](https://github.com/conda/conda/wiki/VC-features))\n",
    "* Combina bem com ferramentas como CMake\n",
    "    * Uma linha como `cmake -DCMAKE_PREFIX_PATH=$CONDA_PREFIX` já faz o CMake encontrar os arquivos necessários"
   ]
  },
  {
   "cell_type": "markdown",
   "metadata": {
    "deletable": true,
    "editable": true,
    "slideshow": {
     "slide_type": "slide"
    }
   },
   "source": [
    "# Referências\n",
    "\n",
    "* [Conda docs](https://conda.readthedocs.io/en/latest/)\n",
    "* [Conda build docs](https://conda.io/docs/building/recipe.html)\n",
    "* [Conda Wiki VC features](https://github.com/conda/conda/wiki/VC-features)\n",
    "* [Blog: Python Packages and Environments with conda](https://www.continuum.io/blog/developer-blog/python-packages-and-environments-conda)\n",
    "* [Conda-forge](https://conda-forge.github.io/)\n",
    "* [Exemplo de conda build recipe p/ libtiff](https://github.com/conda/conda-recipes/blob/master/libtiff/)"
   ]
  }
 ],
 "metadata": {
  "celltoolbar": "Slideshow",
  "kernelspec": {
   "display_name": "Python 3",
   "language": "python",
   "name": "python3"
  },
  "language_info": {
   "codemirror_mode": {
    "name": "ipython",
    "version": 3
   },
   "file_extension": ".py",
   "mimetype": "text/x-python",
   "name": "python",
   "nbconvert_exporter": "python",
   "pygments_lexer": "ipython3",
   "version": "3.5.3"
  }
 },
 "nbformat": 4,
 "nbformat_minor": 2
}
